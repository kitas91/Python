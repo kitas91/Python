{
 "cells": [
  {
   "cell_type": "code",
   "execution_count": 11,
   "metadata": {},
   "outputs": [],
   "source": [
    "import csv\n",
    "from pathlib import Path"
   ]
  },
  {
   "cell_type": "code",
   "execution_count": 12,
   "metadata": {},
   "outputs": [],
   "source": [
    "csvpath = Path ('PyBank_data.csv')"
   ]
  },
  {
   "cell_type": "code",
   "execution_count": 13,
   "metadata": {},
   "outputs": [],
   "source": [
    "Profit_Losses = []\n",
    "line_num = 0"
   ]
  },
  {
   "cell_type": "code",
   "execution_count": 14,
   "metadata": {},
   "outputs": [
    {
     "name": "stdout",
     "output_type": "stream",
     "text": [
      "Date,Profit/Losses\n",
      "10-Jan,867884\n",
      "10-Feb,984655\n",
      "10-Mar,322013\n",
      "10-Apr,-69417\n",
      "10-May,310503\n",
      "10-Jun,522857\n",
      "10-Jul,1033096\n",
      "10-Aug,604885\n",
      "10-Sep,-216386\n",
      "10-Oct,477532\n",
      "10-Nov,893810\n",
      "10-Dec,-80353\n",
      "11-Jan,779806\n",
      "11-Feb,-335203\n",
      "11-Mar,697845\n",
      "11-Apr,793163\n",
      "11-May,485070\n",
      "11-Jun,584122\n",
      "11-Jul,62729\n",
      "11-Aug,668179\n",
      "11-Sep,899906\n",
      "11-Oct,834719\n",
      "11-Nov,132003\n",
      "11-Dec,309978\n",
      "12-Jan,-755566\n",
      "12-Feb,1170593\n",
      "12-Mar,252788\n",
      "12-Apr,1151518\n",
      "12-May,817256\n",
      "12-Jun,570757\n",
      "12-Jul,506702\n",
      "12-Aug,-1022534\n",
      "12-Sep,475062\n",
      "12-Oct,779976\n",
      "12-Nov,144175\n",
      "12-Dec,542494\n",
      "13-Jan,359333\n",
      "13-Feb,321469\n",
      "13-Mar,67780\n",
      "13-Apr,471435\n",
      "13-May,565603\n",
      "13-Jun,872480\n",
      "13-Jul,789480\n",
      "13-Aug,999942\n",
      "13-Sep,-1196225\n",
      "13-Oct,268997\n",
      "13-Nov,-687986\n",
      "13-Dec,1150461\n",
      "14-Jan,682458\n",
      "14-Feb,617856\n",
      "14-Mar,824098\n",
      "14-Apr,581943\n",
      "14-May,132864\n",
      "14-Jun,448062\n",
      "14-Jul,689161\n",
      "14-Aug,800701\n",
      "14-Sep,1166643\n",
      "14-Oct,947333\n",
      "14-Nov,578668\n",
      "14-Dec,988505\n",
      "15-Jan,1139715\n",
      "15-Feb,1029471\n",
      "15-Mar,687533\n",
      "15-Apr,-524626\n",
      "15-May,158620\n",
      "15-Jun,87795\n",
      "15-Jul,423389\n",
      "15-Aug,840723\n",
      "15-Sep,568529\n",
      "15-Oct,332067\n",
      "15-Nov,989499\n",
      "15-Dec,778237\n",
      "16-Jan,650000\n",
      "16-Feb,-1100387\n",
      "16-Mar,-174946\n",
      "16-Apr,757143\n",
      "16-May,445709\n",
      "16-Jun,712961\n",
      "16-Jul,-1163797\n",
      "16-Aug,569899\n",
      "16-Sep,768450\n",
      "16-Oct,102685\n",
      "16-Nov,795914\n",
      "16-Dec,60988\n",
      "17-Jan,138230\n",
      "17-Feb,671099\n"
     ]
    }
   ],
   "source": [
    "with open(csvpath, 'r') as f:\n",
    "    contents = f.read()\n",
    "    print (contents)"
   ]
  },
  {
   "cell_type": "code",
   "execution_count": null,
   "metadata": {},
   "outputs": [],
   "source": []
  },
  {
   "cell_type": "code",
   "execution_count": 4,
   "metadata": {},
   "outputs": [
    {
     "name": "stdout",
     "output_type": "stream",
     "text": [
      "<class '_io.TextIOWrapper'>\n",
      "<class '_csv.reader'>\n",
      "['Date', 'Profit/Losses']\n"
     ]
    }
   ],
   "source": [
    "# Open the file in \"read\" mode ('r') and store the\n",
    "# contents in the variable \"text\"\n",
    "\n",
    "with open (csvpath, 'r') as csvfile:\n",
    "    print(type(csvfile))\n",
    "    csvreader = csv.reader(csvfile, delimiter = ',')\n",
    "    print(type(csvreader))\n",
    "    header = next(csvreader)\n",
    "    line_num +=1\n",
    "    print(f\"{header}\")"
   ]
  },
  {
   "cell_type": "code",
   "execution_count": 136,
   "metadata": {},
   "outputs": [],
   "source": [
    "# Initialize variables \n",
    "total_months = 0\n",
    "total = 0\n",
    "avg_change = 0\n",
    "greatest_increase_in_profits = 0\n",
    "greatest_decrease_in_profits = 0\n",
    "line_num = 0"
   ]
  },
  {
   "cell_type": "code",
   "execution_count": 137,
   "metadata": {},
   "outputs": [],
   "source": [
    "for p in Profit_Losses:\n",
    "    total_months += Date\n",
    "    "
   ]
  },
  {
   "cell_type": "code",
   "execution_count": 138,
   "metadata": {},
   "outputs": [
    {
     "data": {
      "text/plain": [
       "0"
      ]
     },
     "execution_count": 138,
     "metadata": {},
     "output_type": "execute_result"
    }
   ],
   "source": [
    "total_months "
   ]
  },
  {
   "cell_type": "code",
   "execution_count": null,
   "metadata": {},
   "outputs": [],
   "source": []
  }
 ],
 "metadata": {
  "kernelspec": {
   "display_name": "Python 3",
   "language": "python",
   "name": "python3"
  },
  "language_info": {
   "codemirror_mode": {
    "name": "ipython",
    "version": 3
   },
   "file_extension": ".py",
   "mimetype": "text/x-python",
   "name": "python",
   "nbconvert_exporter": "python",
   "pygments_lexer": "ipython3",
   "version": "3.7.5"
  }
 },
 "nbformat": 4,
 "nbformat_minor": 2
}
