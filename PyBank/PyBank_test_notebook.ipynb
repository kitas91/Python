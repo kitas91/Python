{
 "cells": [
  {
   "cell_type": "code",
   "execution_count": 47,
   "metadata": {},
   "outputs": [],
   "source": [
    "#import proper libraries\n",
    "import numpy as np\n",
    "import pandas as pd "
   ]
  },
  {
   "cell_type": "code",
   "execution_count": 48,
   "metadata": {
    "scrolled": true
   },
   "outputs": [
    {
     "data": {
      "text/html": [
       "<div>\n",
       "<style scoped>\n",
       "    .dataframe tbody tr th:only-of-type {\n",
       "        vertical-align: middle;\n",
       "    }\n",
       "\n",
       "    .dataframe tbody tr th {\n",
       "        vertical-align: top;\n",
       "    }\n",
       "\n",
       "    .dataframe thead th {\n",
       "        text-align: right;\n",
       "    }\n",
       "</style>\n",
       "<table border=\"1\" class=\"dataframe\">\n",
       "  <thead>\n",
       "    <tr style=\"text-align: right;\">\n",
       "      <th></th>\n",
       "      <th>Profit/Losses</th>\n",
       "    </tr>\n",
       "    <tr>\n",
       "      <th>Date</th>\n",
       "      <th></th>\n",
       "    </tr>\n",
       "  </thead>\n",
       "  <tbody>\n",
       "    <tr>\n",
       "      <th>16-May</th>\n",
       "      <td>445709</td>\n",
       "    </tr>\n",
       "    <tr>\n",
       "      <th>16-Jun</th>\n",
       "      <td>712961</td>\n",
       "    </tr>\n",
       "    <tr>\n",
       "      <th>16-Jul</th>\n",
       "      <td>-1163797</td>\n",
       "    </tr>\n",
       "    <tr>\n",
       "      <th>16-Aug</th>\n",
       "      <td>569899</td>\n",
       "    </tr>\n",
       "    <tr>\n",
       "      <th>16-Sep</th>\n",
       "      <td>768450</td>\n",
       "    </tr>\n",
       "    <tr>\n",
       "      <th>16-Oct</th>\n",
       "      <td>102685</td>\n",
       "    </tr>\n",
       "    <tr>\n",
       "      <th>16-Nov</th>\n",
       "      <td>795914</td>\n",
       "    </tr>\n",
       "    <tr>\n",
       "      <th>16-Dec</th>\n",
       "      <td>60988</td>\n",
       "    </tr>\n",
       "    <tr>\n",
       "      <th>17-Jan</th>\n",
       "      <td>138230</td>\n",
       "    </tr>\n",
       "    <tr>\n",
       "      <th>17-Feb</th>\n",
       "      <td>671099</td>\n",
       "    </tr>\n",
       "  </tbody>\n",
       "</table>\n",
       "</div>"
      ],
      "text/plain": [
       "        Profit/Losses\n",
       "Date                 \n",
       "16-May         445709\n",
       "16-Jun         712961\n",
       "16-Jul       -1163797\n",
       "16-Aug         569899\n",
       "16-Sep         768450\n",
       "16-Oct         102685\n",
       "16-Nov         795914\n",
       "16-Dec          60988\n",
       "17-Jan         138230\n",
       "17-Feb         671099"
      ]
     },
     "execution_count": 48,
     "metadata": {},
     "output_type": "execute_result"
    }
   ],
   "source": [
    "#create paths and import data into python with index as \"Date\"\n",
    "data = pd.read_csv('PyBank_data.csv', index_col=\"Date\")\n",
    "#set column as \"Profit/Losses\"\n",
    "columns = [\"Profit/Losses\"]\n",
    "data.columns= columns\n",
    "#test data, make sure you are importing using .head or .tail\n",
    "data.tail(10)"
   ]
  },
  {
   "cell_type": "code",
   "execution_count": 49,
   "metadata": {
    "scrolled": false
   },
   "outputs": [
    {
     "data": {
      "text/html": [
       "<div>\n",
       "<style scoped>\n",
       "    .dataframe tbody tr th:only-of-type {\n",
       "        vertical-align: middle;\n",
       "    }\n",
       "\n",
       "    .dataframe tbody tr th {\n",
       "        vertical-align: top;\n",
       "    }\n",
       "\n",
       "    .dataframe thead th {\n",
       "        text-align: right;\n",
       "    }\n",
       "</style>\n",
       "<table border=\"1\" class=\"dataframe\">\n",
       "  <thead>\n",
       "    <tr style=\"text-align: right;\">\n",
       "      <th></th>\n",
       "      <th>Profit/Losses</th>\n",
       "    </tr>\n",
       "    <tr>\n",
       "      <th>Date</th>\n",
       "      <th></th>\n",
       "    </tr>\n",
       "  </thead>\n",
       "  <tbody>\n",
       "    <tr>\n",
       "      <th>16-Oct</th>\n",
       "      <td>-0.866374</td>\n",
       "    </tr>\n",
       "    <tr>\n",
       "      <th>16-Nov</th>\n",
       "      <td>6.751025</td>\n",
       "    </tr>\n",
       "    <tr>\n",
       "      <th>16-Dec</th>\n",
       "      <td>-0.923374</td>\n",
       "    </tr>\n",
       "    <tr>\n",
       "      <th>17-Jan</th>\n",
       "      <td>1.266511</td>\n",
       "    </tr>\n",
       "    <tr>\n",
       "      <th>17-Feb</th>\n",
       "      <td>3.854945</td>\n",
       "    </tr>\n",
       "  </tbody>\n",
       "</table>\n",
       "</div>"
      ],
      "text/plain": [
       "        Profit/Losses\n",
       "Date                 \n",
       "16-Oct      -0.866374\n",
       "16-Nov       6.751025\n",
       "16-Dec      -0.923374\n",
       "17-Jan       1.266511\n",
       "17-Feb       3.854945"
      ]
     },
     "execution_count": 49,
     "metadata": {},
     "output_type": "execute_result"
    }
   ],
   "source": [
    "#calculating the daily percent change \n",
    "percent_change = data.pct_change()\n",
    "percent_change.tail()"
   ]
  },
  {
   "cell_type": "code",
   "execution_count": 50,
   "metadata": {
    "scrolled": true
   },
   "outputs": [
    {
     "data": {
      "text/html": [
       "<div>\n",
       "<style scoped>\n",
       "    .dataframe tbody tr th:only-of-type {\n",
       "        vertical-align: middle;\n",
       "    }\n",
       "\n",
       "    .dataframe tbody tr th {\n",
       "        vertical-align: top;\n",
       "    }\n",
       "\n",
       "    .dataframe thead th {\n",
       "        text-align: right;\n",
       "    }\n",
       "</style>\n",
       "<table border=\"1\" class=\"dataframe\">\n",
       "  <thead>\n",
       "    <tr style=\"text-align: right;\">\n",
       "      <th></th>\n",
       "      <th>Profit/Losses</th>\n",
       "      <th>% chg</th>\n",
       "    </tr>\n",
       "    <tr>\n",
       "      <th>Date</th>\n",
       "      <th></th>\n",
       "      <th></th>\n",
       "    </tr>\n",
       "  </thead>\n",
       "  <tbody>\n",
       "    <tr>\n",
       "      <th>10-Jan</th>\n",
       "      <td>867884</td>\n",
       "      <td>NaN</td>\n",
       "    </tr>\n",
       "    <tr>\n",
       "      <th>10-Feb</th>\n",
       "      <td>984655</td>\n",
       "      <td>0.134547</td>\n",
       "    </tr>\n",
       "    <tr>\n",
       "      <th>10-Mar</th>\n",
       "      <td>322013</td>\n",
       "      <td>-0.672969</td>\n",
       "    </tr>\n",
       "    <tr>\n",
       "      <th>10-Apr</th>\n",
       "      <td>-69417</td>\n",
       "      <td>-1.215572</td>\n",
       "    </tr>\n",
       "    <tr>\n",
       "      <th>10-May</th>\n",
       "      <td>310503</td>\n",
       "      <td>-5.473011</td>\n",
       "    </tr>\n",
       "  </tbody>\n",
       "</table>\n",
       "</div>"
      ],
      "text/plain": [
       "        Profit/Losses     % chg\n",
       "Date                           \n",
       "10-Jan         867884       NaN\n",
       "10-Feb         984655  0.134547\n",
       "10-Mar         322013 -0.672969\n",
       "10-Apr         -69417 -1.215572\n",
       "10-May         310503 -5.473011"
      ]
     },
     "execution_count": 50,
     "metadata": {},
     "output_type": "execute_result"
    }
   ],
   "source": [
    "#adding % change to the table as the third column entry - assign it back\n",
    "data[\"% chg\"] = percent_change\n",
    "data.dtypes\n",
    "data.head()"
   ]
  },
  {
   "cell_type": "code",
   "execution_count": 51,
   "metadata": {},
   "outputs": [
    {
     "data": {
      "text/html": [
       "<div>\n",
       "<style scoped>\n",
       "    .dataframe tbody tr th:only-of-type {\n",
       "        vertical-align: middle;\n",
       "    }\n",
       "\n",
       "    .dataframe tbody tr th {\n",
       "        vertical-align: top;\n",
       "    }\n",
       "\n",
       "    .dataframe thead th {\n",
       "        text-align: right;\n",
       "    }\n",
       "</style>\n",
       "<table border=\"1\" class=\"dataframe\">\n",
       "  <thead>\n",
       "    <tr style=\"text-align: right;\">\n",
       "      <th></th>\n",
       "      <th>Profit/Losses</th>\n",
       "      <th>% chg</th>\n",
       "    </tr>\n",
       "  </thead>\n",
       "  <tbody>\n",
       "    <tr>\n",
       "      <th>count</th>\n",
       "      <td>86.00</td>\n",
       "      <td>85.00</td>\n",
       "    </tr>\n",
       "    <tr>\n",
       "      <th>mean</th>\n",
       "      <td>446309.05</td>\n",
       "      <td>-0.29</td>\n",
       "    </tr>\n",
       "    <tr>\n",
       "      <th>std</th>\n",
       "      <td>536357.95</td>\n",
       "      <td>2.49</td>\n",
       "    </tr>\n",
       "    <tr>\n",
       "      <th>min</th>\n",
       "      <td>-1196225.00</td>\n",
       "      <td>-10.70</td>\n",
       "    </tr>\n",
       "    <tr>\n",
       "      <th>25%</th>\n",
       "      <td>182162.00</td>\n",
       "      <td>-1.09</td>\n",
       "    </tr>\n",
       "    <tr>\n",
       "      <th>50%</th>\n",
       "      <td>570328.00</td>\n",
       "      <td>-0.30</td>\n",
       "    </tr>\n",
       "    <tr>\n",
       "      <th>75%</th>\n",
       "      <td>795226.25</td>\n",
       "      <td>0.35</td>\n",
       "    </tr>\n",
       "    <tr>\n",
       "      <th>max</th>\n",
       "      <td>1170593.00</td>\n",
       "      <td>9.65</td>\n",
       "    </tr>\n",
       "  </tbody>\n",
       "</table>\n",
       "</div>"
      ],
      "text/plain": [
       "       Profit/Losses  % chg\n",
       "count          86.00  85.00\n",
       "mean       446309.05  -0.29\n",
       "std        536357.95   2.49\n",
       "min      -1196225.00 -10.70\n",
       "25%        182162.00  -1.09\n",
       "50%        570328.00  -0.30\n",
       "75%        795226.25   0.35\n",
       "max       1170593.00   9.65"
      ]
     },
     "execution_count": 51,
     "metadata": {},
     "output_type": "execute_result"
    }
   ],
   "source": [
    "#check your data - rounded to the second decimal\n",
    "round(data.describe(), 2)"
   ]
  },
  {
   "cell_type": "code",
   "execution_count": 52,
   "metadata": {},
   "outputs": [
    {
     "data": {
      "text/plain": [
       "Profit/Losses    0.000000\n",
       "% chg            1.162791\n",
       "dtype: float64"
      ]
     },
     "execution_count": 52,
     "metadata": {},
     "output_type": "execute_result"
    }
   ],
   "source": [
    "#Checking data quality - nulls - first null on %chng is natural\n",
    "data.index.dtype\n",
    "data.isnull()\n",
    "data.isnull().sum()\n",
    "data.isnull().mean()*100"
   ]
  },
  {
   "cell_type": "code",
   "execution_count": 53,
   "metadata": {},
   "outputs": [
    {
     "data": {
      "text/plain": [
       "Date\n",
       "10-Jan    False\n",
       "10-Feb    False\n",
       "10-Mar    False\n",
       "10-Apr    False\n",
       "10-May    False\n",
       "          ...  \n",
       "16-Oct    False\n",
       "16-Nov    False\n",
       "16-Dec    False\n",
       "17-Jan    False\n",
       "17-Feb    False\n",
       "Length: 86, dtype: bool"
      ]
     },
     "execution_count": 53,
     "metadata": {},
     "output_type": "execute_result"
    }
   ],
   "source": [
    "#Checking data quality - duplicate rows\n",
    "data.duplicated()"
   ]
  },
  {
   "cell_type": "code",
   "execution_count": 54,
   "metadata": {},
   "outputs": [],
   "source": [
    "#converting Profit/Losses column into floats\n",
    "data['Profit/Losses'] = data['Profit/Losses'].astype('float')\n"
   ]
  },
  {
   "cell_type": "code",
   "execution_count": 55,
   "metadata": {},
   "outputs": [
    {
     "data": {
      "text/plain": [
       "Profit/Losses    float64\n",
       "% chg            float64\n",
       "dtype: object"
      ]
     },
     "execution_count": 55,
     "metadata": {},
     "output_type": "execute_result"
    }
   ],
   "source": [
    "data.dtypes"
   ]
  },
  {
   "cell_type": "code",
   "execution_count": 61,
   "metadata": {
    "scrolled": true
   },
   "outputs": [
    {
     "name": "stdout",
     "output_type": "stream",
     "text": [
      "        Profit/Losses     % chg\n",
      "Date                           \n",
      "11-Aug       668179.0  9.651836\n"
     ]
    }
   ],
   "source": [
    "#setting variables \n",
    "max_percent_increase = data.max()[1]\n",
    "max_percent_increase\n",
    "\n",
    "#find max() in a certain column - this case % chng\n",
    "percent_chg_max = data.loc[data['% chg'] == max_percent_increase]\n",
    "print (percent_chg_max)"
   ]
  },
  {
   "cell_type": "code",
   "execution_count": 62,
   "metadata": {},
   "outputs": [],
   "source": [
    "#creating variable max decrease of percentage\n",
    "max_percent_decrease = data.min()[1]\n",
    "percent_chg_min = data.loc[data['% chg'] == max_percent_decrease]"
   ]
  },
  {
   "cell_type": "code",
   "execution_count": 63,
   "metadata": {},
   "outputs": [],
   "source": [
    "total_months = data.count()\n",
    "total_pnl = data.sum()\n",
    "max_increase = data.max()\n",
    "mean_change = round(data.mean(), 2)"
   ]
  },
  {
   "cell_type": "code",
   "execution_count": 71,
   "metadata": {},
   "outputs": [
    {
     "name": "stdout",
     "output_type": "stream",
     "text": [
      "\n",
      "\n",
      "Financial Analysis: \n",
      " --------------------\n",
      "Total Months: 86\n",
      "Total PnL: 38382578.0\n",
      "Average Change: 446309.05\n",
      "Greatest Increase in Profits:         Profit/Losses     % chg\n",
      "Date                           \n",
      "11-Aug       668179.0  9.651836\n",
      "Greatest Decrease in Profits:         Profit/Losses      % chg\n",
      "Date                            \n",
      "11-Jan       779806.0 -10.704753\n"
     ]
    }
   ],
   "source": [
    "#mean_change = data.mean()\n",
    "#max_increase = data.max()\n",
    "#min_decrease = data.min()\n",
    "print (\"\\n\")\n",
    "print (\"Financial Analysis: \\n --------------------\")\n",
    "print (f\"Total Months: {total_months[0]}\")\n",
    "print (f\"Total PnL: {total_pnl [0]}\")\n",
    "print (f\"Average Change: {mean_change [0]}\")\n",
    "print (f\"Greatest Increase in Profits: {percent_chg_max}\")\n",
    "print (f\"Greatest Decrease in Profits: {percent_chg_min}\")\n"
   ]
  },
  {
   "cell_type": "code",
   "execution_count": null,
   "metadata": {},
   "outputs": [],
   "source": []
  }
 ],
 "metadata": {
  "kernelspec": {
   "display_name": "Python 3",
   "language": "python",
   "name": "python3"
  },
  "language_info": {
   "codemirror_mode": {
    "name": "ipython",
    "version": 3
   },
   "file_extension": ".py",
   "mimetype": "text/x-python",
   "name": "python",
   "nbconvert_exporter": "python",
   "pygments_lexer": "ipython3",
   "version": "3.7.5"
  }
 },
 "nbformat": 4,
 "nbformat_minor": 2
}
