{
 "cells": [
  {
   "cell_type": "code",
   "execution_count": 3,
   "metadata": {},
   "outputs": [],
   "source": [
    "#import proper libraries\n",
    "import numpy as np\n",
    "import pandas as pd"
   ]
  },
  {
   "cell_type": "code",
   "execution_count": 4,
   "metadata": {
    "scrolled": true
   },
   "outputs": [
    {
     "data": {
      "text/html": [
       "<div>\n",
       "<style scoped>\n",
       "    .dataframe tbody tr th:only-of-type {\n",
       "        vertical-align: middle;\n",
       "    }\n",
       "\n",
       "    .dataframe tbody tr th {\n",
       "        vertical-align: top;\n",
       "    }\n",
       "\n",
       "    .dataframe thead th {\n",
       "        text-align: right;\n",
       "    }\n",
       "</style>\n",
       "<table border=\"1\" class=\"dataframe\">\n",
       "  <thead>\n",
       "    <tr style=\"text-align: right;\">\n",
       "      <th></th>\n",
       "      <th>Profit/Losses</th>\n",
       "    </tr>\n",
       "    <tr>\n",
       "      <th>Date</th>\n",
       "      <th></th>\n",
       "    </tr>\n",
       "  </thead>\n",
       "  <tbody>\n",
       "    <tr>\n",
       "      <th>16-May</th>\n",
       "      <td>445709</td>\n",
       "    </tr>\n",
       "    <tr>\n",
       "      <th>16-Jun</th>\n",
       "      <td>712961</td>\n",
       "    </tr>\n",
       "    <tr>\n",
       "      <th>16-Jul</th>\n",
       "      <td>-1163797</td>\n",
       "    </tr>\n",
       "    <tr>\n",
       "      <th>16-Aug</th>\n",
       "      <td>569899</td>\n",
       "    </tr>\n",
       "    <tr>\n",
       "      <th>16-Sep</th>\n",
       "      <td>768450</td>\n",
       "    </tr>\n",
       "    <tr>\n",
       "      <th>16-Oct</th>\n",
       "      <td>102685</td>\n",
       "    </tr>\n",
       "    <tr>\n",
       "      <th>16-Nov</th>\n",
       "      <td>795914</td>\n",
       "    </tr>\n",
       "    <tr>\n",
       "      <th>16-Dec</th>\n",
       "      <td>60988</td>\n",
       "    </tr>\n",
       "    <tr>\n",
       "      <th>17-Jan</th>\n",
       "      <td>138230</td>\n",
       "    </tr>\n",
       "    <tr>\n",
       "      <th>17-Feb</th>\n",
       "      <td>671099</td>\n",
       "    </tr>\n",
       "  </tbody>\n",
       "</table>\n",
       "</div>"
      ],
      "text/plain": [
       "        Profit/Losses\n",
       "Date                 \n",
       "16-May         445709\n",
       "16-Jun         712961\n",
       "16-Jul       -1163797\n",
       "16-Aug         569899\n",
       "16-Sep         768450\n",
       "16-Oct         102685\n",
       "16-Nov         795914\n",
       "16-Dec          60988\n",
       "17-Jan         138230\n",
       "17-Feb         671099"
      ]
     },
     "execution_count": 4,
     "metadata": {},
     "output_type": "execute_result"
    }
   ],
   "source": [
    "#create paths and import data into python\n",
    "df = pd.read_csv('PyBank_data.csv', index_col=\"Date\")\n",
    "columns = [\"Profit/Losses\"]\n",
    "#test data, make sure you are importing using .head or .tail\n",
    "df.tail(10)"
   ]
  },
  {
   "cell_type": "code",
   "execution_count": 99,
   "metadata": {
    "scrolled": true
   },
   "outputs": [
    {
     "data": {
      "text/plain": [
       "<bound method NDFrame.tail of         Profit/Losses\n",
       "Date                 \n",
       "10-Jan            NaN\n",
       "10-Feb       0.134547\n",
       "10-Mar      -0.672969\n",
       "10-Apr      -1.215572\n",
       "10-May      -5.473011\n",
       "...               ...\n",
       "16-Oct      -0.866374\n",
       "16-Nov       6.751025\n",
       "16-Dec      -0.923374\n",
       "17-Jan       1.266511\n",
       "17-Feb       3.854945\n",
       "\n",
       "[86 rows x 1 columns]>"
      ]
     },
     "execution_count": 99,
     "metadata": {},
     "output_type": "execute_result"
    }
   ],
   "source": [
    "#calculating the daily percent change\n",
    "percent_change = df.pct_change()\n",
    "percent_change.tail"
   ]
  },
  {
   "cell_type": "code",
   "execution_count": 100,
   "metadata": {},
   "outputs": [
    {
     "data": {
      "text/html": [
       "<div>\n",
       "<style scoped>\n",
       "    .dataframe tbody tr th:only-of-type {\n",
       "        vertical-align: middle;\n",
       "    }\n",
       "\n",
       "    .dataframe tbody tr th {\n",
       "        vertical-align: top;\n",
       "    }\n",
       "\n",
       "    .dataframe thead th {\n",
       "        text-align: right;\n",
       "    }\n",
       "</style>\n",
       "<table border=\"1\" class=\"dataframe\">\n",
       "  <thead>\n",
       "    <tr style=\"text-align: right;\">\n",
       "      <th></th>\n",
       "      <th>Profit/Losses</th>\n",
       "      <th>% chg</th>\n",
       "    </tr>\n",
       "    <tr>\n",
       "      <th>Date</th>\n",
       "      <th></th>\n",
       "      <th></th>\n",
       "    </tr>\n",
       "  </thead>\n",
       "  <tbody>\n",
       "    <tr>\n",
       "      <th>16-Oct</th>\n",
       "      <td>102685</td>\n",
       "      <td>-0.866374</td>\n",
       "    </tr>\n",
       "    <tr>\n",
       "      <th>16-Nov</th>\n",
       "      <td>795914</td>\n",
       "      <td>6.751025</td>\n",
       "    </tr>\n",
       "    <tr>\n",
       "      <th>16-Dec</th>\n",
       "      <td>60988</td>\n",
       "      <td>-0.923374</td>\n",
       "    </tr>\n",
       "    <tr>\n",
       "      <th>17-Jan</th>\n",
       "      <td>138230</td>\n",
       "      <td>1.266511</td>\n",
       "    </tr>\n",
       "    <tr>\n",
       "      <th>17-Feb</th>\n",
       "      <td>671099</td>\n",
       "      <td>3.854945</td>\n",
       "    </tr>\n",
       "  </tbody>\n",
       "</table>\n",
       "</div>"
      ],
      "text/plain": [
       "        Profit/Losses     % chg\n",
       "Date                           \n",
       "16-Oct         102685 -0.866374\n",
       "16-Nov         795914  6.751025\n",
       "16-Dec          60988 -0.923374\n",
       "17-Jan         138230  1.266511\n",
       "17-Feb         671099  3.854945"
      ]
     },
     "execution_count": 100,
     "metadata": {},
     "output_type": "execute_result"
    }
   ],
   "source": [
    "#adding % change to the table as the third entry\n",
    "df[\"% chg\"] = percent_change\n",
    "df.tail()"
   ]
  },
  {
   "cell_type": "code",
   "execution_count": 101,
   "metadata": {},
   "outputs": [
    {
     "name": "stdout",
     "output_type": "stream",
     "text": [
      "object\n",
      "        Profit/Losses  % chg\n",
      "Date                        \n",
      "10-Jan          False   True\n",
      "10-Feb          False  False\n",
      "10-Mar          False  False\n",
      "10-Apr          False  False\n",
      "10-May          False  False\n",
      "...               ...    ...\n",
      "16-Oct          False  False\n",
      "16-Nov          False  False\n",
      "16-Dec          False  False\n",
      "17-Jan          False  False\n",
      "17-Feb          False  False\n",
      "\n",
      "[86 rows x 2 columns]\n",
      "Profit/Losses    0\n",
      "% chg            1\n",
      "dtype: int64\n",
      "Profit/Losses    0.000000\n",
      "% chg            1.162791\n",
      "dtype: float64\n"
     ]
    }
   ],
   "source": [
    "#Checking data quality - nulls - first null on %chng is natural\n",
    "print (df.index.dtype)\n",
    "print (df.isnull())\n",
    "print (df.isnull().sum())\n",
    "print (df.isnull().mean()*100)"
   ]
  },
  {
   "cell_type": "code",
   "execution_count": 103,
   "metadata": {},
   "outputs": [
    {
     "data": {
      "text/plain": [
       "Date\n",
       "10-Jan    False\n",
       "10-Feb    False\n",
       "10-Mar    False\n",
       "10-Apr    False\n",
       "10-May    False\n",
       "          ...  \n",
       "16-Oct    False\n",
       "16-Nov    False\n",
       "16-Dec    False\n",
       "17-Jan    False\n",
       "17-Feb    False\n",
       "Length: 86, dtype: bool"
      ]
     },
     "execution_count": 103,
     "metadata": {},
     "output_type": "execute_result"
    }
   ],
   "source": [
    "#Checking data quality - duplicate rows\n",
    "df.duplicated()"
   ]
  },
  {
   "cell_type": "code",
   "execution_count": 88,
   "metadata": {},
   "outputs": [],
   "source": [
    "#converting Profit/Losses column into floats\n",
    "df['Profit/Losses'] = df['Profit/Losses'].astype('float')"
   ]
  },
  {
   "cell_type": "code",
   "execution_count": 89,
   "metadata": {},
   "outputs": [
    {
     "data": {
      "text/plain": [
       "Profit/Losses    float64\n",
       "% chng           float64\n",
       "dtype: object"
      ]
     },
     "execution_count": 89,
     "metadata": {},
     "output_type": "execute_result"
    }
   ],
   "source": [
    "df.dtypes"
   ]
  },
  {
   "cell_type": "code",
   "execution_count": 90,
   "metadata": {},
   "outputs": [
    {
     "name": "stdout",
     "output_type": "stream",
     "text": [
      "\n",
      "\n",
      "       Profit/Losses  % chng\n",
      "count          86.00   85.00\n",
      "mean       446309.05   -0.29\n",
      "std        536357.95    2.49\n",
      "min      -1196225.00  -10.70\n",
      "25%        182162.00   -1.09\n",
      "50%        570328.00   -0.30\n",
      "75%        795226.25    0.35\n",
      "max       1170593.00    9.65\n"
     ]
    }
   ],
   "source": [
    "print (\"\\n\")\n",
    "print (round(df.describe(), 2))"
   ]
  },
  {
   "cell_type": "code",
   "execution_count": 91,
   "metadata": {},
   "outputs": [],
   "source": [
    "total_months = df.count()\n",
    "total_pnl = df.sum()\n",
    "max_increase = df.max()"
   ]
  },
  {
   "cell_type": "code",
   "execution_count": 92,
   "metadata": {},
   "outputs": [
    {
     "name": "stdout",
     "output_type": "stream",
     "text": [
      "\n",
      "\n",
      "Financial Analysis: \n",
      " --------------------\n",
      "Total Months: 86\n",
      "Total PnL: 38382578.0\n"
     ]
    }
   ],
   "source": [
    "\n",
    "#mean_change = df.mean()\n",
    "#max_increase = df.max()\n",
    "#min_decrease = df.min()\n",
    "print (\"\\n\")\n",
    "print (\"Financial Analysis: \\n --------------------\")\n",
    "print (f\"Total Months: {total_months[0]}\")\n",
    "print (f\"Total PnL: {total_pnl [0]}\")\n",
    "#print (f\"Average Change: {mean_change [0]}\")\n",
    "#print (f\"Greatest Increase in Profits: {max_increase [0]}\")\n",
    "#print (f\"Greatest Decrease in Profits: {min_decrease [0]}\")\n"
   ]
  },
  {
   "cell_type": "code",
   "execution_count": null,
   "metadata": {},
   "outputs": [],
   "source": []
  }
 ],
 "metadata": {
  "kernelspec": {
   "display_name": "Python 3",
   "language": "python",
   "name": "python3"
  },
  "language_info": {
   "codemirror_mode": {
    "name": "ipython",
    "version": 3
   },
   "file_extension": ".py",
   "mimetype": "text/x-python",
   "name": "python",
   "nbconvert_exporter": "python",
   "pygments_lexer": "ipython3",
   "version": "3.7.5"
  }
 },
 "nbformat": 4,
 "nbformat_minor": 2
}
